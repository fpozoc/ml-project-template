{
 "cells": [
  {
   "cell_type": "markdown",
   "metadata": {},
   "source": [
    "# Headline"
   ]
  },
  {
   "cell_type": "markdown",
   "metadata": {},
   "source": [
    "# 1. Introduction <a class=\"anchor\" id=\"introduction\"></a>"
   ]
  },
  {
   "cell_type": "markdown",
   "metadata": {},
   "source": [
    "## 1.1 Table of Contents <a class=\"anchor\" id=\"table-of-contents\"></a>"
   ]
  },
  {
   "cell_type": "markdown",
   "metadata": {
    "ExecuteTime": {
     "end_time": "2020-04-16T15:32:25.662741Z",
     "start_time": "2020-04-16T15:32:25.655434Z"
    }
   },
   "source": [
    "* [1. Introduction](#introduction)\n",
    "    * [1.1 Table of Contents](#table-of-contents)\n",
    "    * [1.2 Project Description](#project-description)\n",
    "    * [1.3 Packages](#packages)\n",
    "        * [1.3.1 Python and 3rd party libraries](#python-and-third-party-libraries)\n",
    "        * [1.3.2 Custom packages](#custom-packages)\n",
    "        * [1.3.3 Magic functions](#magic-functions)\n",
    "        * [1.3.4 Reproducibility](#reproducibility)\n",
    "* [2. Data Loading](#data-loading)\n",
    "* [3. Data Exploration](#data-exploration)\n",
    "* [4. Data Preprocessing](#data-preprocessing)\n",
    "* [5. Modeling](#modeling)\n",
    "* [6. Functions](#functions)\n",
    "* [7. References](#references)\n",
    "* [8. Project contribution](#project-contribution)"
   ]
  },
  {
   "cell_type": "markdown",
   "metadata": {},
   "source": [
    "## 1.2 Project Description <a class=\"anchor\" id=\"project-description\"></a>"
   ]
  },
  {
   "cell_type": "markdown",
   "metadata": {},
   "source": [
    "Brief description of what are you using in this notebook."
   ]
  },
  {
   "cell_type": "markdown",
   "metadata": {},
   "source": [
    "## 1.3 Packages <a class=\"anchor\" id=\"packages\"></a>"
   ]
  },
  {
   "cell_type": "markdown",
   "metadata": {},
   "source": [
    "### 1.3.1 Python and 3rd party libraries <a class=\"anchor\" id=\"python-and-third-party-libraries\"></a>"
   ]
  },
  {
   "cell_type": "code",
   "execution_count": 6,
   "metadata": {
    "ExecuteTime": {
     "end_time": "2020-04-16T15:57:28.080865Z",
     "start_time": "2020-04-16T15:57:28.076022Z"
    }
   },
   "outputs": [],
   "source": [
    "import os, sys\n",
    "import warnings\n",
    "warnings.filterwarnings('ignore')\n",
    "\n",
    "import pandas as pd\n",
    "import numpy as np"
   ]
  },
  {
   "cell_type": "markdown",
   "metadata": {},
   "source": [
    "###  1.3.2 Custom packages <a class=\"anchor\" id=\"custom-packages\"></a>"
   ]
  },
  {
   "cell_type": "code",
   "execution_count": 7,
   "metadata": {
    "ExecuteTime": {
     "end_time": "2020-04-16T15:57:28.449870Z",
     "start_time": "2020-04-16T15:57:28.446211Z"
    }
   },
   "outputs": [],
   "source": [
    "sys.path.append('./')\n",
    "# from . import ., ."
   ]
  },
  {
   "cell_type": "markdown",
   "metadata": {},
   "source": [
    "### 1.3.3 Magic functions <a class=\"anchor\" id=\"magic-functions\"></a>"
   ]
  },
  {
   "cell_type": "code",
   "execution_count": 8,
   "metadata": {
    "ExecuteTime": {
     "end_time": "2020-04-16T15:57:28.845725Z",
     "start_time": "2020-04-16T15:57:28.824836Z"
    }
   },
   "outputs": [],
   "source": [
    "%load_ext autoreload\n",
    "%autoreload 2"
   ]
  },
  {
   "cell_type": "markdown",
   "metadata": {},
   "source": [
    "### 1.3.4 Reproducibility <a class=\"anchor\" id=\"reproducibility\"></a>"
   ]
  },
  {
   "cell_type": "code",
   "execution_count": 9,
   "metadata": {
    "ExecuteTime": {
     "end_time": "2020-04-16T15:57:29.393127Z",
     "start_time": "2020-04-16T15:57:29.149945Z"
    }
   },
   "outputs": [
    {
     "name": "stdout",
     "output_type": "stream",
     "text": [
      "Fernando Pozo \n",
      "last updated: Thu Apr 16 2020 17:57:29 CEST \n",
      "\n",
      "pandas 1.0.3\n",
      "numpy 1.18.1\n",
      "Git hash: c256112a37787a801381b1b3c01871ea3f036f7d\n",
      "/local/fpozoc/MEGA/projects/qsplice/notebooks\r\n"
     ]
    }
   ],
   "source": [
    "#### !pip install watermark\n",
    "#### rasbt watermark https://github.com/rasbt/watermark\n",
    "%load_ext watermark\n",
    "%watermark -a 'Fernando Pozo' -u -n -t -z -g -p pandas,numpy\n",
    "\n",
    "!pwd"
   ]
  },
  {
   "cell_type": "markdown",
   "metadata": {},
   "source": [
    "# 2. Data Loading <a class=\"anchor\" id=\"data-loading\"></a>"
   ]
  },
  {
   "cell_type": "markdown",
   "metadata": {},
   "source": [
    "Brief data source explanation."
   ]
  },
  {
   "cell_type": "markdown",
   "metadata": {},
   "source": [
    "# 3. Data Exploration <a class=\"anchor\" id=\"data-exploration\"></a>"
   ]
  },
  {
   "cell_type": "markdown",
   "metadata": {},
   "source": [
    "Descriptive statistics, plots, and figures."
   ]
  },
  {
   "cell_type": "markdown",
   "metadata": {},
   "source": [
    "# 4. Data Preprocessing <a class=\"anchor\" id=\"data-preprocessing\"></a>"
   ]
  },
  {
   "cell_type": "markdown",
   "metadata": {},
   "source": [
    "Once the data has been right understood follow some preprocessing guidelines."
   ]
  },
  {
   "cell_type": "markdown",
   "metadata": {},
   "source": [
    "# 5. Modeling <a class=\"anchor\" id=\"modeling\"></a>"
   ]
  },
  {
   "cell_type": "markdown",
   "metadata": {},
   "source": [
    "Apply a model in necessary"
   ]
  },
  {
   "cell_type": "markdown",
   "metadata": {},
   "source": [
    "# 6. Functions <a class=\"anchor\" id=\"functions\"></a>"
   ]
  },
  {
   "cell_type": "code",
   "execution_count": 10,
   "metadata": {
    "ExecuteTime": {
     "end_time": "2020-04-16T15:57:31.638986Z",
     "start_time": "2020-04-16T15:57:31.621882Z"
    },
    "cell_style": "center"
   },
   "outputs": [],
   "source": [
    "def foo(arg1, arg2, arg3):\n",
    "    return list1"
   ]
  },
  {
   "cell_type": "markdown",
   "metadata": {},
   "source": [
    "# 7. References <a class=\"anchor\" id=\"references\"></a>"
   ]
  },
  {
   "cell_type": "markdown",
   "metadata": {},
   "source": [
    "That's the initial reference for this notebook: https://github.com/dair-ai/data_science_writing_primer/blob/master/Writing_Primer_for_Data_Scientists.ipynb\n",
    "\n",
    "Below, give the reader references to follow properly your work.\n",
    "- Reference 1.\n",
    "- Reference 2."
   ]
  },
  {
   "cell_type": "markdown",
   "metadata": {
    "cell_style": "center"
   },
   "source": [
    "# 8. Project contribution <a class=\"anchor\" id=\"project-contribution\"></a>"
   ]
  },
  {
   "cell_type": "markdown",
   "metadata": {},
   "source": [
    "**Author information**:\n",
    "Fernando Pozo ([@fpozoc](https://gitlab.com/fpozoc))\n",
    "\n",
    "You can find the data driven project jupyter notebook template [here](https://gitlab.com/fpozoc/data-driven-project-template/-/blob/master/notebooks/1.0-nb_template.ipynb)."
   ]
  }
 ],
 "metadata": {
  "kernelspec": {
   "display_name": "Python 3",
   "language": "python",
   "name": "python3"
  },
  "varInspector": {
   "cols": {
    "lenName": 16,
    "lenType": 16,
    "lenVar": 40
   },
   "kernels_config": {
    "python": {
     "delete_cmd_postfix": "",
     "delete_cmd_prefix": "del ",
     "library": "var_list.py",
     "varRefreshCmd": "print(var_dic_list())"
    },
    "r": {
     "delete_cmd_postfix": ") ",
     "delete_cmd_prefix": "rm(",
     "library": "var_list.r",
     "varRefreshCmd": "cat(var_dic_list()) "
    }
   },
   "types_to_exclude": [
    "module",
    "function",
    "builtin_function_or_method",
    "instance",
    "_Feature"
   ],
   "window_display": false
  }
 },
 "nbformat": 4,
 "nbformat_minor": 2
}
